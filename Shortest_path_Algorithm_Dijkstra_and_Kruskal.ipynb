{
  "nbformat": 4,
  "nbformat_minor": 0,
  "metadata": {
    "colab": {
      "provenance": [],
      "authorship_tag": "ABX9TyMR9wppvjxSzZBCq5IbomoP",
      "include_colab_link": true
    },
    "kernelspec": {
      "name": "python3",
      "display_name": "Python 3"
    },
    "language_info": {
      "name": "python"
    }
  },
  "cells": [
    {
      "cell_type": "markdown",
      "metadata": {
        "id": "view-in-github",
        "colab_type": "text"
      },
      "source": [
        "<a href=\"https://colab.research.google.com/github/aravind2060/Dijkstra_and_kruskal/blob/master/Shortest_path_Algorithm_Dijkstra_and_Kruskal.ipynb\" target=\"_parent\"><img src=\"https://colab.research.google.com/assets/colab-badge.svg\" alt=\"Open In Colab\"/></a>"
      ]
    },
    {
      "cell_type": "code",
      "source": [
        "import heapq\n",
        "import time"
      ],
      "metadata": {
        "id": "_34p-D0bvjnb"
      },
      "execution_count": 15,
      "outputs": []
    },
    {
      "cell_type": "code",
      "execution_count": 16,
      "metadata": {
        "id": "Yphmehj3pN_p"
      },
      "outputs": [],
      "source": [
        "class DijkstraAlgo:\n",
        "    def __init__(self, vertices, directed=False):\n",
        "        self.v = vertices\n",
        "        self.graph = {i: [] for i in range(vertices)}\n",
        "        self.directed = directed\n",
        "        self.vertex_map = {}  # Map to store vertex labels to integer mapping\n",
        "        self.reverse_map = {} # Reverse mapping from integers to labels\n",
        "\n",
        "    def add_vertex(self, vertex):\n",
        "        if vertex not in self.vertex_map:\n",
        "            index = len(self.vertex_map)\n",
        "            self.vertex_map[vertex] = index\n",
        "            self.reverse_map[index] = vertex\n",
        "\n",
        "    def add_edge(self, u, v, w):\n",
        "        if u not in self.vertex_map:\n",
        "            self.add_vertex(u)\n",
        "        if v not in self.vertex_map:\n",
        "            self.add_vertex(v)\n",
        "        u_index = self.vertex_map[u]\n",
        "        v_index = self.vertex_map[v]\n",
        "        self.graph[u_index].append((v_index, w))\n",
        "        if not self.directed:\n",
        "            self.graph[v_index].append((u_index, w))\n",
        "\n",
        "    def print_graph(self):\n",
        "        for vertex in self.graph:\n",
        "            print(f\"{self.reverse_map[vertex]} ->\", end=\" \")\n",
        "            for edge in self.graph[vertex]:\n",
        "                print(f\"({self.reverse_map[edge[0]]}, {edge[1]})\", end=\" \")\n",
        "            print()\n",
        "\n",
        "    def dijkstra_logic(self, src):\n",
        "        distances = {vertex: float('infinity') for vertex in self.graph}\n",
        "        distances[src] = 0\n",
        "        priority_queue = [(0, src)]\n",
        "        predecessors = {vertex: None for vertex in self.graph}\n",
        "\n",
        "        while priority_queue:\n",
        "            current_distance, current_vertex = heapq.heappop(priority_queue)\n",
        "            if current_distance > distances[current_vertex]:\n",
        "                continue\n",
        "\n",
        "            for neighbor, weight in self.graph[current_vertex]:\n",
        "                distance = current_distance + weight\n",
        "                if distance < distances[neighbor]:\n",
        "                    distances[neighbor] = distance\n",
        "                    predecessors[neighbor] = current_vertex\n",
        "                    heapq.heappush(priority_queue, (distance, neighbor))\n",
        "\n",
        "        return distances, predecessors\n",
        "\n",
        "    def get_path(self, src, dest, predecessors):\n",
        "        path = []\n",
        "        step = dest\n",
        "        while step is not None:\n",
        "            path.append(step)\n",
        "            step = predecessors[step]\n",
        "        path.reverse()\n",
        "        return [self.reverse_map[node] for node in path if node in self.reverse_map]"
      ]
    },
    {
      "cell_type": "code",
      "source": [
        "class KrushalAlgo:\n",
        "    def __init__(self, vertices):\n",
        "        self.V = vertices\n",
        "        self.graph = []\n",
        "\n",
        "    def add_edge(self, u, v, w):\n",
        "        self.graph.append((w, u, v))  # Using tuple for easier sorting by weight\n",
        "\n",
        "    # Iterative find with path compression\n",
        "    def find(self, parent, i):\n",
        "        if parent[i] != i:\n",
        "            parent[i] = self.find(parent, parent[i])\n",
        "        return parent[i]\n",
        "\n",
        "    # Union by rank\n",
        "    def union(self, parent, rank, x, y):\n",
        "        xroot = self.find(parent, x)\n",
        "        yroot = self.find(parent, y)\n",
        "\n",
        "        if xroot != yroot:\n",
        "            if rank[xroot] < rank[yroot]:\n",
        "                parent[xroot] = yroot\n",
        "            elif rank[xroot] > rank[yroot]:\n",
        "                parent[yroot] = xroot\n",
        "            else:\n",
        "                parent[yroot] = xroot\n",
        "                rank[xroot] += 1\n",
        "            return True\n",
        "        return False\n",
        "\n",
        "    def kruskal_logic(self):\n",
        "        result = []\n",
        "        self.graph.sort()\n",
        "        parent = list(range(self.V))\n",
        "        rank = [0] * self.V\n",
        "        e = 0\n",
        "\n",
        "        for weight, u, v in self.graph:\n",
        "            if e == self.V - 1:\n",
        "                break\n",
        "            if self.union(parent, rank, u, v):\n",
        "                result.append((u, v, weight))\n",
        "                e += 1\n",
        "\n",
        "        return result"
      ],
      "metadata": {
        "id": "Gkxfd30FIJBE"
      },
      "execution_count": 17,
      "outputs": []
    },
    {
      "cell_type": "code",
      "source": [
        "def load_graph_from_file_for_dijkstra(file_path):\n",
        "    with open(file_path, 'r') as file:\n",
        "        lines = file.readlines()\n",
        "        first_line = lines[0].split()\n",
        "        num_vertices = int(first_line[0])\n",
        "        graph_type = first_line[2]\n",
        "        directed = graph_type == 'D'\n",
        "\n",
        "        g = DijkstraAlgo(num_vertices, directed)\n",
        "\n",
        "        for line in lines[1:-1]:\n",
        "            u, v, w = line.split()\n",
        "            g.add_edge(u, v, int(w))\n",
        "\n",
        "        # Handle optional source node\n",
        "        source = lines[-1].strip()\n",
        "        source = g.vertex_map[source] if source in g.vertex_map else None\n",
        "\n",
        "        return g, source"
      ],
      "metadata": {
        "id": "KenptY3Iq9D7"
      },
      "execution_count": 18,
      "outputs": []
    },
    {
      "cell_type": "code",
      "source": [
        "def load_graph_from_file_for_krushal(file_path):\n",
        "    with open(file_path, 'r') as file:\n",
        "        lines = file.readlines()\n",
        "        first_line = lines[0].split()\n",
        "        num_vertices = int(first_line[0])\n",
        "\n",
        "        g = KrushalAlgo(num_vertices)\n",
        "        vertex_map = {}\n",
        "        vertex_index = 0\n",
        "\n",
        "        for line in lines[1:]:\n",
        "            parts = line.strip().split()\n",
        "            if len(parts) == 3:\n",
        "                u, v, w = parts[0], parts[1], int(parts[2])\n",
        "\n",
        "                # Ensure each vertex label is mapped to a unique integer\n",
        "                if u not in vertex_map:\n",
        "                    vertex_map[u] = vertex_index\n",
        "                    vertex_index += 1\n",
        "                if v not in vertex_map:\n",
        "                    vertex_map[v] = vertex_index\n",
        "                    vertex_index += 1\n",
        "\n",
        "                g.add_edge(vertex_map[u], vertex_map[v], w)\n",
        "        return g, vertex_map"
      ],
      "metadata": {
        "id": "0ykC-nyaLnVB"
      },
      "execution_count": 19,
      "outputs": []
    },
    {
      "cell_type": "code",
      "source": [
        "file_path = '/content/sample_data/input3.txt';\n",
        "graph, source = load_graph_from_file_for_dijkstra(file_path)\n",
        "print(\"Input Graph structure:\")\n",
        "graph.print_graph()\n",
        "if source is not None:\n",
        "    print(f\"Source vertex: {graph.reverse_map[source]}\")\n",
        "else:\n",
        "    print(\"No source vertex specified.\")\n",
        "\n",
        "# Start measuring the time\n",
        "start_time = time.time()\n",
        "\n",
        "distances, predecessors = graph.dijkstra_logic(source)\n",
        "\n",
        "# Calculate the time taken\n",
        "end_time = time.time()\n",
        "time_taken = end_time - start_time\n",
        "print(\"Time taken for Dijkstra:\", time_taken, \"seconds\\n\")\n",
        "\n",
        "print(\"Paths and Distances from Source:\")\n",
        "for vertex in graph.graph:\n",
        "    path = graph.get_path(source, vertex, predecessors)\n",
        "    print(f\"Path from {graph.reverse_map[source]} to {graph.reverse_map[vertex]}: {' -> '.join(path)} with cost {distances[vertex]}\")"
      ],
      "metadata": {
        "colab": {
          "base_uri": "https://localhost:8080/"
        },
        "id": "2lBFfJn1rBee",
        "outputId": "2a05dda4-19e1-42bb-f429-b5ed2706a232"
      },
      "execution_count": 20,
      "outputs": [
        {
          "output_type": "stream",
          "name": "stdout",
          "text": [
            "Input Graph structure:\n",
            "A -> (B, 1) (C, 2) \n",
            "B -> (A, 1) (C, 1) (D, 3) (E, 2) \n",
            "C -> (A, 2) (B, 1) (D, 1) (E, 2) \n",
            "D -> (B, 3) (C, 1) (E, 4) (F, 3) \n",
            "E -> (B, 2) (C, 2) (D, 4) (F, 3) \n",
            "F -> (D, 3) (E, 3) \n",
            "Source vertex: A\n",
            "Time taken for Dijkstra: 0.00013780593872070312 seconds\n",
            "\n",
            "Paths and Distances from Source:\n",
            "Path from A to A: A with cost 0\n",
            "Path from A to B: A -> B with cost 1\n",
            "Path from A to C: A -> C with cost 2\n",
            "Path from A to D: A -> C -> D with cost 3\n",
            "Path from A to E: A -> B -> E with cost 3\n",
            "Path from A to F: A -> C -> D -> F with cost 6\n"
          ]
        }
      ]
    },
    {
      "cell_type": "code",
      "source": [
        "\n",
        "# Specify the path to your input file\n",
        "file_path = '/content/sample_data/input3.txt';\n",
        "\n",
        "# Load the graph from the file\n",
        "graph, vertex_map = load_graph_from_file_for_krushal(file_path)\n",
        "\n",
        "# Print to verify mapping\n",
        "print(\"Vertex Map:\", vertex_map)\n",
        "\n",
        "# Start measuring the time\n",
        "start_time = time.time()\n",
        "\n",
        "# Compute the Minimum Spanning Tree using Kruskal's Algorithm\n",
        "mst = graph.kruskal_logic()\n",
        "\n",
        "# Calculate the time taken\n",
        "end_time = time.time()\n",
        "time_taken = end_time - start_time\n",
        "print(\"Time taken for Kruskals Algorithm :\", time_taken, \"seconds\\n\")\n",
        "\n",
        "# Calculate and print the total cost of the Minimum Spanning Tree\n",
        "total_cost = sum(weight for _, _, weight in mst)\n",
        "print(\"Total cost of the Minimum Spanning Tree:\", total_cost)\n",
        "\n",
        "# Print the edges in the Minimum Spanning Tree\n",
        "print(\"Edges in the Minimum Spanning Tree:\")\n",
        "for u, v, weight in mst:\n",
        "    # Mapping integer indexes back to original labels for printing\n",
        "    u_label = list(vertex_map.keys())[list(vertex_map.values()).index(u)]\n",
        "    v_label = list(vertex_map.keys())[list(vertex_map.values()).index(v)]\n",
        "    print(f\"({u_label}, {v_label}) - {weight}\")\n"
      ],
      "metadata": {
        "colab": {
          "base_uri": "https://localhost:8080/"
        },
        "id": "gQCUwv3BU9m-",
        "outputId": "b31e8544-9b92-464a-eeaf-164d1eb71f81"
      },
      "execution_count": 21,
      "outputs": [
        {
          "output_type": "stream",
          "name": "stdout",
          "text": [
            "Vertex Map: {'A': 0, 'B': 1, 'C': 2, 'D': 3, 'E': 4, 'F': 5}\n",
            "Time taken for Krushals Algorithm : 0.00014495849609375 seconds\n",
            "\n",
            "Total cost of the Minimum Spanning Tree: 8\n",
            "Edges in the Minimum Spanning Tree:\n",
            "(A, B) - 1\n",
            "(B, C) - 1\n",
            "(C, D) - 1\n",
            "(B, E) - 2\n",
            "(D, F) - 3\n"
          ]
        }
      ]
    }
  ]
}